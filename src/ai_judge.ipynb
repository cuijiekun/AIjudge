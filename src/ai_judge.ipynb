{
 "cells": [
  {
   "cell_type": "code",
   "execution_count": 11,
   "metadata": {
    "ExecuteTime": {
     "end_time": "2019-04-02T15:30:55.360697Z",
     "start_time": "2019-04-02T15:30:55.354744Z"
    },
    "collapsed": true
   },
   "outputs": [],
   "source": [
    "import codecs\n",
    "import jieba\n",
    "import jieba.analyse\n",
    "import jieba.posseg\n",
    "import pandas as pd\n",
    "import re\n",
    "\n",
    "import param\n",
    "import util"
   ]
  },
  {
   "cell_type": "markdown",
   "metadata": {},
   "source": [
    "##### 定义分词函数"
   ]
  },
  {
   "cell_type": "code",
   "execution_count": 2,
   "metadata": {
    "ExecuteTime": {
     "end_time": "2019-04-02T15:10:38.872170Z",
     "start_time": "2019-04-02T15:10:38.855305Z"
    },
    "collapsed": true
   },
   "outputs": [],
   "source": [
    "def split_word(text, stopwords):\n",
    "    word_list = jieba.cut(text)\n",
    "    start = True\n",
    "    result = ''\n",
    "    for word in word_list:\n",
    "        word = word.strip()\n",
    "        if word not in stopwords:\n",
    "            if start is True:\n",
    "                result = word\n",
    "                start = False\n",
    "            else:\n",
    "                result += ' ' + word\n",
    "    return result.encode('utf-8')\n"
   ]
  },
  {
   "cell_type": "markdown",
   "metadata": {},
   "source": [
    "##### 加载停用词"
   ]
  },
  {
   "cell_type": "code",
   "execution_count": 3,
   "metadata": {
    "ExecuteTime": {
     "end_time": "2019-04-02T15:10:41.410765Z",
     "start_time": "2019-04-02T15:10:41.403326Z"
    },
    "collapsed": true
   },
   "outputs": [],
   "source": [
    "stopwords = {}\n",
    "for line in codecs.open(param.data_path+'/input/stop.txt', 'r', 'utf-8'):\n",
    "    stopwords[line.rstrip()] = 1\n",
    "    "
   ]
  },
  {
   "cell_type": "markdown",
   "metadata": {},
   "source": [
    "##### 加载数据 并分词"
   ]
  },
  {
   "cell_type": "code",
   "execution_count": 13,
   "metadata": {
    "ExecuteTime": {
     "end_time": "2019-04-02T15:35:42.694512Z",
     "start_time": "2019-04-02T15:35:42.622591Z"
    }
   },
   "outputs": [
    {
     "ename": "UnicodeDecodeError",
     "evalue": "'gbk' codec can't decode byte 0xa6 in position 19: illegal multibyte sequence",
     "output_type": "error",
     "traceback": [
      "\u001b[1;31m---------------------------------------------------------------------------\u001b[0m",
      "\u001b[1;31mUnicodeDecodeError\u001b[0m                        Traceback (most recent call last)",
      "\u001b[1;32m<ipython-input-13-a55ed3cdc6ec>\u001b[0m in \u001b[0;36m<module>\u001b[1;34m()\u001b[0m\n\u001b[0;32m      1\u001b[0m \u001b[0mdf_tr\u001b[0m \u001b[1;33m=\u001b[0m \u001b[1;33m[\u001b[0m\u001b[1;33m]\u001b[0m\u001b[1;33m\u001b[0m\u001b[0m\n\u001b[1;32m----> 2\u001b[1;33m \u001b[1;32mfor\u001b[0m \u001b[0mi\u001b[0m\u001b[1;33m,\u001b[0m \u001b[0mline\u001b[0m \u001b[1;32min\u001b[0m \u001b[0menumerate\u001b[0m\u001b[1;33m(\u001b[0m\u001b[0mopen\u001b[0m\u001b[1;33m(\u001b[0m\u001b[0mparam\u001b[0m\u001b[1;33m.\u001b[0m\u001b[0mdata_path\u001b[0m\u001b[1;33m+\u001b[0m\u001b[1;34m'/input/train.txt'\u001b[0m\u001b[1;33m,\u001b[0m \u001b[1;34m'r'\u001b[0m\u001b[1;33m)\u001b[0m\u001b[1;33m)\u001b[0m\u001b[1;33m:\u001b[0m\u001b[1;33m\u001b[0m\u001b[0m\n\u001b[0m\u001b[0;32m      3\u001b[0m     \u001b[1;32mif\u001b[0m \u001b[0mi\u001b[0m \u001b[1;33m%\u001b[0m \u001b[1;36m1000\u001b[0m \u001b[1;33m==\u001b[0m \u001b[1;36m1\u001b[0m\u001b[1;33m:\u001b[0m\u001b[1;33m\u001b[0m\u001b[0m\n\u001b[0;32m      4\u001b[0m         \u001b[0mutil\u001b[0m\u001b[1;33m.\u001b[0m\u001b[0mlog\u001b[0m\u001b[1;33m(\u001b[0m\u001b[1;34m'train data: iter = %d'\u001b[0m \u001b[1;33m%\u001b[0m \u001b[0mi\u001b[0m\u001b[1;33m)\u001b[0m\u001b[1;33m\u001b[0m\u001b[0m\n\u001b[0;32m      5\u001b[0m \u001b[1;31m#     line = line.replace(regex=\"[&]\\w*[;]\", value=\"\")\u001b[0m\u001b[1;33m\u001b[0m\u001b[1;33m\u001b[0m\u001b[0m\n",
      "\u001b[1;31mUnicodeDecodeError\u001b[0m: 'gbk' codec can't decode byte 0xa6 in position 19: illegal multibyte sequence"
     ]
    }
   ],
   "source": [
    "df_tr = []\n",
    "for i, line in enumerate(open(param.data_path+'/input/train.txt', 'r')):\n",
    "    if i % 1000 == 1:\n",
    "        util.log('train data: iter = %d' % i)\n",
    "#     line = line.replace(regex=\"[&]\\w*[;]\", value=\"\")\n",
    "    line = re.sub(re.compile('[&]\\w*[;]'),'', line)\n",
    "    segs = line.split('\\t')\n",
    "    if i ==1:\n",
    "        print(segs[1]) # 看一下数据是否乱码\n",
    "    row = {}\n",
    "    row['id'] = segs[0]\n",
    "    row['content'] = split_word(segs[1].strip(), stopwords)\n",
    "    row['penalty'] = segs[2]\n",
    "    row['laws'] = segs[3].strip()\n",
    "    df_tr.append(row)\n",
    "    if i == 5000: # 测试用\n",
    "        break\n",
    "    \n",
    "df_tr = pd.DataFrame(df_tr)\n",
    "\n",
    "\n",
    "df_te = []\n",
    "for i, line in enumerate(open(param.data_path+'/input/test.txt', 'r')):\n",
    "    if i % 1000 == 1:\n",
    "        util.log('test data: iter = %d ' % i)\n",
    "    segs = line.split('\\t')\n",
    "    row = {}\n",
    "    row['id'] = segs[0]\n",
    "    row['content'] = split_word(segs[1].strip(), stopwords)\n",
    "    df_te.append(row)\n",
    "    if i == 5000: # 测试用\n",
    "        break\n",
    "    \n",
    "df_te = pd.DataFrame(df_te)\n",
    "\n",
    "print(df_tr.shape)\n",
    "print(df_tr.shape)\n",
    "print(df_tr.info())\n",
    "df_tr.head()"
   ]
  },
  {
   "cell_type": "markdown",
   "metadata": {},
   "source": [
    "##### 写出数据"
   ]
  },
  {
   "cell_type": "code",
   "execution_count": 8,
   "metadata": {
    "ExecuteTime": {
     "end_time": "2019-04-02T15:24:12.595687Z",
     "start_time": "2019-04-02T15:23:49.325136Z"
    }
   },
   "outputs": [],
   "source": [
    "df_all = pd.concat([df_tr, df_te]).fillna(0)\n",
    "df_all.to_csv(param.data_path+'/output/corpus/all_data.csv', index=None)"
   ]
  },
  {
   "cell_type": "code",
   "execution_count": null,
   "metadata": {
    "collapsed": true
   },
   "outputs": [],
   "source": []
  }
 ],
 "metadata": {
  "kernelspec": {
   "display_name": "Python 3",
   "language": "python",
   "name": "python3"
  },
  "language_info": {
   "codemirror_mode": {
    "name": "ipython",
    "version": 3
   },
   "file_extension": ".py",
   "mimetype": "text/x-python",
   "name": "python",
   "nbconvert_exporter": "python",
   "pygments_lexer": "ipython3",
   "version": "3.5.4"
  },
  "toc": {
   "base_numbering": 1,
   "nav_menu": {},
   "number_sections": true,
   "sideBar": true,
   "skip_h1_title": false,
   "title_cell": "Table of Contents",
   "title_sidebar": "Contents",
   "toc_cell": false,
   "toc_position": {},
   "toc_section_display": true,
   "toc_window_display": false
  }
 },
 "nbformat": 4,
 "nbformat_minor": 2
}
